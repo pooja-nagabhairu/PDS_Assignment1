{
  "nbformat": 4,
  "nbformat_minor": 0,
  "metadata": {
    "colab": {
      "provenance": []
    },
    "kernelspec": {
      "name": "python3",
      "display_name": "Python 3"
    },
    "language_info": {
      "name": "python"
    }
  },
  "cells": [
    {
      "cell_type": "code",
      "execution_count": 1,
      "metadata": {
        "colab": {
          "base_uri": "https://localhost:8080/"
        },
        "id": "2woc0Kp3iRJR",
        "outputId": "043e1028-299e-4790-ff70-cbad95c8c402"
      },
      "outputs": [
        {
          "output_type": "stream",
          "name": "stdout",
          "text": [
            "Data saved as frailty_data.csv\n"
          ]
        }
      ],
      "source": [
        "import pandas as pd\n",
        "\n",
        "# Creating the raw data based on the table provided\n",
        "data = {\n",
        "    'Height': [65.8, 71.5, 69.4, 68.2, 67.8, 68.7, 69.8, 70.1, 67.9, 66.8],\n",
        "    'Weight': [112, 136, 153, 142, 144, 123, 141, 136, 112, 120],\n",
        "    'Age': [30, 19, 45, 22, 29, 50, 51, 23, 17, 39],\n",
        "    'Grip_strength': [30, 31, 29, 28, 24, 26, 22, 20, 19, 31],\n",
        "    'Frailty': ['N', 'N', 'N', 'Y', 'Y', 'N', 'Y', 'Y', 'N', 'N']\n",
        "}\n",
        "\n",
        "# Creating a DataFrame\n",
        "df = pd.DataFrame(data)\n",
        "\n",
        "# Saving it as a CSV file\n",
        "df.to_csv('frailty_data.csv', index=False)\n",
        "\n",
        "print(\"Data saved as frailty_data.csv\")"
      ]
    },
    {
      "cell_type": "code",
      "source": [],
      "metadata": {
        "id": "18Hh5O_3iVAE"
      },
      "execution_count": null,
      "outputs": []
    }
  ]
}