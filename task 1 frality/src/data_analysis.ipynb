{
  "nbformat": 4,
  "nbformat_minor": 0,
  "metadata": {
    "colab": {
      "provenance": []
    },
    "kernelspec": {
      "name": "python3",
      "display_name": "Python 3"
    },
    "language_info": {
      "name": "python"
    }
  },
  "cells": [
    {
      "cell_type": "code",
      "source": [
        "import pandas as pd\n",
        "import matplotlib.pyplot as plt\n"
      ],
      "metadata": {
        "id": "r_6LAGjTjVgv"
      },
      "execution_count": 10,
      "outputs": []
    },
    {
      "cell_type": "code",
      "source": [
        "# Generate summary statistics for the dataset\n",
        "summary_stats = df.describe()\n",
        "\n",
        "# Display the summary statistics\n",
        "print(\"Summary Statistics:\\n\", summary_stats)\n"
      ],
      "metadata": {
        "colab": {
          "base_uri": "https://localhost:8080/"
        },
        "id": "sVr_61X4o0da",
        "outputId": "04b0d9ef-dd4d-48d2-e5ef-3f05981e70c1"
      },
      "execution_count": 23,
      "outputs": [
        {
          "output_type": "stream",
          "name": "stdout",
          "text": [
            "Summary Statistics:\n",
            "           Height      Weight        Age  Grip_strength  Frailty\n",
            "count  10.000000   10.000000  10.000000      10.000000     10.0\n",
            "mean   68.600000  131.900000  32.500000      26.000000      0.0\n",
            "std     1.670662   14.231811  12.860361       4.521553      0.0\n",
            "min    65.800000  112.000000  17.000000      19.000000      0.0\n",
            "25%    67.825000  120.750000  22.250000      22.500000      0.0\n",
            "50%    68.450000  136.000000  29.500000      27.000000      0.0\n",
            "75%    69.700000  141.750000  43.500000      29.750000      0.0\n",
            "max    71.500000  153.000000  51.000000      31.000000      0.0\n"
          ]
        }
      ]
    },
    {
      "cell_type": "code",
      "source": [
        "# Save the summary statistics to a CSV file with a filename\n",
        "summary_stats.to_csv('/content/results/summary_statistics.csv')"
      ],
      "metadata": {
        "id": "oMwv1K2wr29o"
      },
      "execution_count": 22,
      "outputs": []
    },
    {
      "cell_type": "code",
      "source": [
        "import pandas as pd\n",
        "import matplotlib.pyplot as plt\n",
        "import seaborn as sns\n",
        "from scipy import stats\n",
        "\n"
      ],
      "metadata": {
        "id": "Yc0yO-EwsTwz"
      },
      "execution_count": 25,
      "outputs": []
    },
    {
      "cell_type": "code",
      "source": [
        "# Step 1: Load the cleaned dataset\n",
        "data = pd.read_csv('/content/cleaned_frailty_data.csv')\n",
        "print(data.head())\n"
      ],
      "metadata": {
        "colab": {
          "base_uri": "https://localhost:8080/"
        },
        "id": "ecnDQIxNuVQR",
        "outputId": "80465174-008e-4182-9ad6-f4459f8f22ef"
      },
      "execution_count": 28,
      "outputs": [
        {
          "output_type": "stream",
          "name": "stdout",
          "text": [
            "   Height  Weight  Age  Grip_strength  Frailty\n",
            "0    65.8     112   30           30.0        0\n",
            "1    71.5     136   19           31.0        0\n",
            "2    69.4     153   45           29.0        0\n",
            "3    68.2     142   22           28.0        1\n",
            "4    67.8     144   29           24.0        1\n"
          ]
        }
      ]
    },
    {
      "cell_type": "code",
      "source": [
        "import os\n",
        "from scipy import stats\n",
        "\n",
        "# Ensure the directory exists\n",
        "results_dir = '/content/frailty/results/'\n",
        "os.makedirs(results_dir, exist_ok=True)  # Create the directory if it doesn't exist\n",
        "\n",
        "# Perform the t-test\n",
        "t2_test = stats.ttest_ind(data['Weight'], data['Frailty'])\n",
        "\n",
        "# Write the t-test result to a text file\n",
        "with open(os.path.join(results_dir, 'ttest_result.txt'), 'w') as f:\n",
        "    f.write(f\"T-test Result:\\n\")\n",
        "    f.write(f\"T-statistic: {t2_test.statistic:.4f}\\n\")\n",
        "    f.write(f\"P-value: {t2_test.pvalue:.4e}\\n\")\n",
        "    f.write(f\"Degrees of Freedom: {t2_test.df:.1f}\\n\")\n",
        "\n",
        "# Read and print the content of the file\n",
        "with open(os.path.join(results_dir, 'ttest_result.txt'), 'r') as f:\n",
        "    content = f.read()\n",
        "\n",
        "print(content)"
      ],
      "metadata": {
        "colab": {
          "base_uri": "https://localhost:8080/"
        },
        "id": "uZtBf22_uY4r",
        "outputId": "2f736750-e63c-429d-e997-bda778a81e37"
      },
      "execution_count": 39,
      "outputs": [
        {
          "output_type": "stream",
          "name": "stdout",
          "text": [
            "T-test Result:\n",
            "T-statistic: 29.1998\n",
            "P-value: 1.2921e-16\n",
            "Degrees of Freedom: 18.0\n",
            "\n"
          ]
        }
      ]
    },
    {
      "cell_type": "code",
      "source": [],
      "metadata": {
        "id": "fIxvs-cmvsGc"
      },
      "execution_count": null,
      "outputs": []
    },
    {
      "cell_type": "code",
      "source": [
        "# Step 3: Create a box plot to compare Frailty and Grip strength\n",
        "plt.figure(figsize=(8,6))\n",
        "sns.boxplot(x=data['Frailty'], y=data['Grip_strength'])\n",
        "plt.title('Box Plot: Grip Strength vs Frailty')\n",
        "plt.xlabel('Frailty (0: No, 1: Yes)')\n",
        "plt.ylabel('Grip Strength (kg)')\n",
        "\n",
        "\n",
        "\n"
      ],
      "metadata": {
        "colab": {
          "base_uri": "https://localhost:8080/",
          "height": 582
        },
        "id": "202rzLbuu0XX",
        "outputId": "1c2a2728-ece5-4870-e77e-3138f8b0dce2"
      },
      "execution_count": 42,
      "outputs": [
        {
          "output_type": "execute_result",
          "data": {
            "text/plain": [
              "Text(0, 0.5, 'Grip Strength (kg)')"
            ]
          },
          "metadata": {},
          "execution_count": 42
        },
        {
          "output_type": "display_data",
          "data": {
            "text/plain": [
              "<Figure size 800x600 with 1 Axes>"
            ],
            "image/png": "[encoded data removed]"
          },
          "metadata": {}
        }
      ]
    },
    {
      "cell_type": "code",
      "source": [
        "# Save the box plot to the results folder\n",
        "plt.savefig('/content/frailty/results/boxplot_grip_strength_vs_frailty.png')\n",
        "plt.close()\n",
        "\n",
        "print(\"Box plot saved to 'boxplot_grip_strength_vs_frailty.png'\")\n",
        "\n"
      ],
      "metadata": {
        "colab": {
          "base_uri": "https://localhost:8080/"
        },
        "id": "mZ8LWadbxext",
        "outputId": "f3ae17da-d50e-4679-a0d1-94dea9cd999d"
      },
      "execution_count": 43,
      "outputs": [
        {
          "output_type": "stream",
          "name": "stdout",
          "text": [
            "Box plot saved to 'boxplot_grip_strength_vs_frailty.png'\n"
          ]
        }
      ]
    },
    {
      "cell_type": "code",
      "source": [
        "# Step 4: Create a box plot to compare Frailty and Weight\n",
        "plt.figure(figsize=(8,6))\n",
        "sns.boxplot(x=data['Frailty'], y=data['Weight'])\n",
        "plt.title('Box Plot: Weight vs Frailty')\n",
        "plt.xlabel('Frailty (0: No, 1: Yes)')\n",
        "plt.ylabel('Weight')\n"
      ],
      "metadata": {
        "colab": {
          "base_uri": "https://localhost:8080/",
          "height": 582
        },
        "id": "jV_GcjtixsDD",
        "outputId": "a2f019c2-5a3d-40cb-f555-ef6a9bf88b4a"
      },
      "execution_count": 47,
      "outputs": [
        {
          "output_type": "execute_result",
          "data": {
            "text/plain": [
              "Text(0, 0.5, 'Weight')"
            ]
          },
          "metadata": {},
          "execution_count": 47
        },
        {
          "output_type": "display_data",
          "data": {
            "text/plain": [
              "<Figure size 800x600 with 1 Axes>"
            ],
            "image/png": "[encoded data removed]"
          },
          "metadata": {}
        }
      ]
    },
    {
      "cell_type": "code",
      "source": [
        "# Save the box plot to the results folder\n",
        "plt.savefig('/content/frailty/results/boxplot_weight_vs_frailty.png')\n",
        "plt.close()\n",
        "\n",
        "print(\"Box plot saved to 'boxplot_weight_vs_frailty.png\")"
      ],
      "metadata": {
        "colab": {
          "base_uri": "https://localhost:8080/"
        },
        "id": "XuxVWdYdxs83",
        "outputId": "d46b79e7-3332-4ee0-de99-ad824dd61a7c"
      },
      "execution_count": 48,
      "outputs": [
        {
          "output_type": "stream",
          "name": "stdout",
          "text": [
            "Box plot saved to 'boxplot_weight_vs_frailty.png\n"
          ]
        }
      ]
    },
    {
      "cell_type": "code",
      "source": [],
      "metadata": {
        "id": "PCL89CNQx4Nl"
      },
      "execution_count": null,
      "outputs": []
    }
  ]
}