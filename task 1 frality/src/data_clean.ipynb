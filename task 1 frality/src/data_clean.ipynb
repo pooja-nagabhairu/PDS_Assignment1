{
  "nbformat": 4,
  "nbformat_minor": 0,
  "metadata": {
    "colab": {
      "provenance": []
    },
    "kernelspec": {
      "name": "python3",
      "display_name": "Python 3"
    },
    "language_info": {
      "name": "python"
    }
  },
  "cells": [
    {
      "cell_type": "code",
      "source": [
        "import pandas as pd\n",
        "\n",
        "#\n",
        "df = pd.read_csv('/content/frailty_data.csv')\n",
        "\n"
      ],
      "metadata": {
        "id": "zSPhV8n6ipfN"
      },
      "execution_count": 2,
      "outputs": []
    },
    {
      "cell_type": "code",
      "source": [
        "\n",
        "missing_values = df.isnull().sum()\n",
        "print(\"Missing values in each column:\\n\", missing_values)\n",
        "\n"
      ],
      "metadata": {
        "colab": {
          "base_uri": "https://localhost:8080/"
        },
        "id": "PMQ-xJUQjJud",
        "outputId": "66e994ee-5443-490a-f76b-2bf77f1c7fc2"
      },
      "execution_count": 3,
      "outputs": [
        {
          "output_type": "stream",
          "name": "stdout",
          "text": [
            "Missing values in each column:\n",
            " Height           0\n",
            "Weight           0\n",
            "Age              0\n",
            "Grip_strength    0\n",
            "Frailty          0\n",
            "dtype: int64\n"
          ]
        }
      ]
    },
    {
      "cell_type": "code",
      "source": [
        "\n",
        "df['Frailty'] = df['Frailty'].apply(lambda x: 1 if x == 'Y' else 0)\n",
        "df['Age'] = df['Age'].astype(int)\n",
        "df['Grip_strength'] = df['Grip_strength'].astype(float)\n",
        "\n",
        "print(\"\\nUpdated DataFrame with correct data types:\\n\", df)\n",
        "\n",
        "print(\"\\nData Types after conversion:\\n\", df.dtypes)\n",
        "\n"
      ],
      "metadata": {
        "colab": {
          "base_uri": "https://localhost:8080/"
        },
        "id": "nGxIpJRejMjd",
        "outputId": "25a8c6f2-6d32-4c54-f249-ba39a8275205"
      },
      "execution_count": 9,
      "outputs": [
        {
          "output_type": "stream",
          "name": "stdout",
          "text": [
            "\n",
            "Updated DataFrame with correct data types:\n",
            "    Height  Weight  Age  Grip_strength  Frailty\n",
            "0    65.8     112   30           30.0        0\n",
            "1    71.5     136   19           31.0        0\n",
            "2    69.4     153   45           29.0        0\n",
            "3    68.2     142   22           28.0        0\n",
            "4    67.8     144   29           24.0        0\n",
            "5    68.7     123   50           26.0        0\n",
            "6    69.8     141   51           22.0        0\n",
            "7    70.1     136   23           20.0        0\n",
            "8    67.9     112   17           19.0        0\n",
            "9    66.8     120   39           31.0        0\n",
            "\n",
            "Data Types after conversion:\n",
            " Height           float64\n",
            "Weight             int64\n",
            "Age                int64\n",
            "Grip_strength    float64\n",
            "Frailty            int64\n",
            "dtype: object\n"
          ]
        }
      ]
    },
    {
      "cell_type": "code",
      "source": [
        "data\n",
        "\n",
        "\n",
        "print(\"\\nCleaned Dataset:\\n\", df)\n",
        "\n",
        "\n",
        "df.to_csv('cleaned_frailty_data.csv', index=False)\n",
        "print(\"\\nData saved as cleaned_frailty_data.csv\")"
      ],
      "metadata": {
        "colab": {
          "base_uri": "https://localhost:8080/"
        },
        "id": "oWJmqERzjTfj",
        "outputId": "6ec588bd-9c1b-45c8-c880-c78fb789e37e"
      },
      "execution_count": 6,
      "outputs": [
        {
          "output_type": "stream",
          "name": "stdout",
          "text": [
            "\n",
            "Cleaned Dataset:\n",
            "    Height  Weight  Age  Grip_strength  Frailty\n",
            "0    65.8     112   30           30.0        0\n",
            "1    71.5     136   19           31.0        0\n",
            "2    69.4     153   45           29.0        0\n",
            "3    68.2     142   22           28.0        1\n",
            "4    67.8     144   29           24.0        1\n",
            "5    68.7     123   50           26.0        0\n",
            "6    69.8     141   51           22.0        1\n",
            "7    70.1     136   23           20.0        1\n",
            "8    67.9     112   17           19.0        0\n",
            "9    66.8     120   39           31.0        0\n",
            "\n",
            "Data saved as cleaned_frailty_data.csv\n"
          ]
        }
      ]
    },
    {
      "cell_type": "code",
      "source": [],
      "metadata": {
        "id": "r_6LAGjTjVgv"
      },
      "execution_count": null,
      "outputs": []
    }
  ]
}