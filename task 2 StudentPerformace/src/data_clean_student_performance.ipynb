{
  "nbformat": 4,
  "nbformat_minor": 0,
  "metadata": {
    "colab": {
      "provenance": []
    },
    "kernelspec": {
      "name": "python3",
      "display_name": "Python 3"
    },
    "language_info": {
      "name": "python"
    }
  },
  "cells": [
    {
      "cell_type": "code",
      "source": [
        "import os\n",
        "import pandas as pd\n",
        "from scipy import stats\n",
        "\n"
      ],
      "metadata": {
        "id": "EEHC5Wde0AaQ"
      },
      "execution_count": 81,
      "outputs": []
    },
    {
      "cell_type": "code",
      "source": [
        "data = pd.read_csv('/content/StudentsPerformance.csv')\n",
        "\n"
      ],
      "metadata": {
        "id": "k-AeB8lM4WcI"
      },
      "execution_count": 87,
      "outputs": []
    },
    {
      "cell_type": "code",
      "source": [
        "\n",
        "print(\"Missing values before cleaning:\\n\", data.isnull().sum())\n",
        "\n"
      ],
      "metadata": {
        "colab": {
          "base_uri": "https://localhost:8080/"
        },
        "id": "rohsdNJB5My7",
        "outputId": "f9559e2b-271b-45f8-88b8-b213d4d3683b"
      },
      "execution_count": 88,
      "outputs": [
        {
          "output_type": "stream",
          "name": "stdout",
          "text": [
            "Missing values before cleaning:\n",
            " gender                         0\n",
            "race/ethnicity                 0\n",
            "parental level of education    0\n",
            "lunch                          0\n",
            "test preparation course        0\n",
            "math score                     0\n",
            "reading score                  0\n",
            "writing score                  0\n",
            "dtype: int64\n"
          ]
        }
      ]
    },
    {
      "cell_type": "code",
      "source": [
        "\n",
        "data['math score'].fillna(data['math score'].mean(), inplace=True)\n",
        "data['reading score'].fillna(data['reading score'].mean(), inplace=True)\n",
        "data['writing score'].fillna(data['writing score'].mean(), inplace=True)\n",
        "\n",
        "print(\"\\nMissing values after filling:\")\n",
        "print(data[['math score', 'reading score', 'writing score']].isnull().sum())\n",
        "\n",
        "\n",
        "print(\"\\nFirst few rows after filling missing values:\")\n",
        "print(data[['math score', 'reading score', 'writing score']].head())"
      ],
      "metadata": {
        "colab": {
          "base_uri": "https://localhost:8080/"
        },
        "id": "LouS7CZ95PNf",
        "outputId": "26cf59b9-f5bf-4b82-cd54-8a3b1a7b6d2c"
      },
      "execution_count": 98,
      "outputs": [
        {
          "output_type": "stream",
          "name": "stdout",
          "text": [
            "\n",
            "Missing values after filling:\n",
            "math score       0\n",
            "reading score    0\n",
            "writing score    0\n",
            "dtype: int64\n",
            "\n",
            "First few rows after filling missing values:\n",
            "   math score  reading score  writing score\n",
            "0          72             72             74\n",
            "1          69             90             88\n",
            "2          90             95             93\n",
            "3          47             57             44\n",
            "4          76             78             75\n"
          ]
        }
      ]
    },
    {
      "cell_type": "code",
      "source": [
        "\n",
        "print(\"Missing values before filling:\")\n",
        "print(data[['gender', 'lunch']].isnull().sum())\n",
        "\n",
        "\n",
        "data['gender'].fillna(data['gender'].mode()[0], inplace=True)\n",
        "data['lunch'].fillna(data['lunch'].mode()[0], inplace=True)\n",
        "\n",
        "print(\"\\nMissing values after filling:\")\n",
        "print(data[['gender', 'lunch']].isnull().sum())\n",
        "\n",
        "\n",
        "print(\"\\nFirst few rows after filling missing categorical values:\")\n",
        "print(data[['gender', 'lunch']].head())\n"
      ],
      "metadata": {
        "colab": {
          "base_uri": "https://localhost:8080/"
        },
        "id": "R0vYInC45R1C",
        "outputId": "60bd316c-56a4-43e0-d6bb-8a2320064ab9"
      },
      "execution_count": 99,
      "outputs": [
        {
          "output_type": "stream",
          "name": "stdout",
          "text": [
            "Missing values before filling:\n",
            "gender    0\n",
            "lunch     0\n",
            "dtype: int64\n",
            "\n",
            "Missing values after filling:\n",
            "gender    0\n",
            "lunch     0\n",
            "dtype: int64\n",
            "\n",
            "First few rows after filling missing categorical values:\n",
            "   gender         lunch\n",
            "0  female      standard\n",
            "1  female      standard\n",
            "2  female      standard\n",
            "3    male  free/reduced\n",
            "4    male      standard\n"
          ]
        }
      ]
    },
    {
      "cell_type": "code",
      "source": [
        "\n",
        "data.drop_duplicates(inplace=True)\n",
        "\n"
      ],
      "metadata": {
        "id": "gJyW8ovk5TpX"
      },
      "execution_count": 91,
      "outputs": []
    },
    {
      "cell_type": "code",
      "source": [
        "\n",
        "data['math score'] = pd.to_numeric(data['math score'], errors='coerce')\n",
        "data['reading score'] = pd.to_numeric(data['reading score'], errors='coerce')\n",
        "data['writing score'] = pd.to_numeric(data['writing score'], errors='coerce')\n",
        "\n"
      ],
      "metadata": {
        "id": "ROyF5oPz5VYd"
      },
      "execution_count": 92,
      "outputs": []
    },
    {
      "cell_type": "code",
      "source": [
        "\n",
        "output_dir = 'cleaned_data/'\n",
        "os.makedirs(output_dir, exist_ok=True)\n",
        "\n"
      ],
      "metadata": {
        "id": "lXobAYfO5XAg"
      },
      "execution_count": 93,
      "outputs": []
    },
    {
      "cell_type": "code",
      "source": [
        "\n",
        "cleaned_data_path = os.path.join(output_dir, 'cleaned_students_performance_data.csv')\n",
        "data.to_csv(cleaned_data_path, index=False)\n",
        "\n"
      ],
      "metadata": {
        "id": "jr6jLO2Z5YfJ"
      },
      "execution_count": 94,
      "outputs": []
    },
    {
      "cell_type": "code",
      "source": [
        "\n",
        "print(\"Data cleaning completed. Summary:\\n\")\n",
        "print(data.info())\n",
        "print(data.describe())\n",
        "\n",
        "print(f\"Cleaned data saved to: {cleaned_data_path}\")"
      ],
      "metadata": {
        "colab": {
          "base_uri": "https://localhost:8080/"
        },
        "id": "3WYE3sAZ5aQs",
        "outputId": "72abe4ad-9461-4788-dd6b-a8585f459d83"
      },
      "execution_count": 95,
      "outputs": [
        {
          "output_type": "stream",
          "name": "stdout",
          "text": [
            "Data cleaning completed. Summary:\n",
            "\n",
            "<class 'pandas.core.frame.DataFrame'>\n",
            "RangeIndex: 1000 entries, 0 to 999\n",
            "Data columns (total 8 columns):\n",
            " #   Column                       Non-Null Count  Dtype \n",
            "---  ------                       --------------  ----- \n",
            " 0   gender                       1000 non-null   object\n",
            " 1   race/ethnicity               1000 non-null   object\n",
            " 2   parental level of education  1000 non-null   object\n",
            " 3   lunch                        1000 non-null   object\n",
            " 4   test preparation course      1000 non-null   object\n",
            " 5   math score                   1000 non-null   int64 \n",
            " 6   reading score                1000 non-null   int64 \n",
            " 7   writing score                1000 non-null   int64 \n",
            "dtypes: int64(3), object(5)\n",
            "memory usage: 62.6+ KB\n",
            "None\n",
            "       math score  reading score  writing score\n",
            "count  1000.00000    1000.000000    1000.000000\n",
            "mean     66.08900      69.169000      68.054000\n",
            "std      15.16308      14.600192      15.195657\n",
            "min       0.00000      17.000000      10.000000\n",
            "25%      57.00000      59.000000      57.750000\n",
            "50%      66.00000      70.000000      69.000000\n",
            "75%      77.00000      79.000000      79.000000\n",
            "max     100.00000     100.000000     100.000000\n",
            "Cleaned data saved to: cleaned_data/cleaned_students_performance_data.csv\n"
          ]
        }
      ]
    },
    {
      "cell_type": "code",
      "source": [],
      "metadata": {
        "id": "oukRWqen5bCy"
      },
      "execution_count": null,
      "outputs": []
    }
  ]
}